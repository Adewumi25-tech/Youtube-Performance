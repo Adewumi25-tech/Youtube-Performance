{
 "cells": [
  {
   "cell_type": "code",
   "execution_count": 2,
   "id": "0e22cc49-875d-4a6d-b3d4-97971f497949",
   "metadata": {},
   "outputs": [
    {
     "name": "stdout",
     "output_type": "stream",
     "text": [
      "Requirement already satisfied: pandas in c:\\users\\aoluokun\\appdata\\local\\anaconda3\\lib\\site-packages (2.1.4)\n",
      "Requirement already satisfied: numpy<2,>=1.23.2 in c:\\users\\aoluokun\\appdata\\local\\anaconda3\\lib\\site-packages (from pandas) (1.26.4)\n",
      "Requirement already satisfied: python-dateutil>=2.8.2 in c:\\users\\aoluokun\\appdata\\local\\anaconda3\\lib\\site-packages (from pandas) (2.8.2)\n",
      "Requirement already satisfied: pytz>=2020.1 in c:\\users\\aoluokun\\appdata\\local\\anaconda3\\lib\\site-packages (from pandas) (2023.3.post1)\n",
      "Requirement already satisfied: tzdata>=2022.1 in c:\\users\\aoluokun\\appdata\\local\\anaconda3\\lib\\site-packages (from pandas) (2023.3)\n",
      "Requirement already satisfied: six>=1.5 in c:\\users\\aoluokun\\appdata\\local\\anaconda3\\lib\\site-packages (from python-dateutil>=2.8.2->pandas) (1.16.0)\n",
      "Note: you may need to restart the kernel to use updated packages.\n"
     ]
    }
   ],
   "source": [
    "pip install pandas\n"
   ]
  },
  {
   "cell_type": "code",
   "execution_count": 27,
   "id": "11a7e43b-0356-4b4e-a3e1-8aa33a29bae6",
   "metadata": {},
   "outputs": [],
   "source": [
    "import pandas as pd\n",
    "\n",
    "import numpy as np\n",
    "\n",
    "import os"
   ]
  },
  {
   "cell_type": "code",
   "execution_count": 2,
   "id": "4e4c848b-4ec3-45fb-bffe-90fa8ec424e3",
   "metadata": {},
   "outputs": [
    {
     "name": "stdout",
     "output_type": "stream",
     "text": [
      "Curent working directory: C:\\Users\\aoluokun\n"
     ]
    }
   ],
   "source": [
    "current_directory = os.getcwd()\n",
    "print(\"Curent working directory:\", current_directory)"
   ]
  },
  {
   "cell_type": "code",
   "execution_count": 3,
   "id": "ad9f8944-bed7-45f6-821d-5c79183b83bc",
   "metadata": {},
   "outputs": [],
   "source": [
    "folder_path =  r'C:\\Users\\aoluokun\\Downloads\\Youtube data'"
   ]
  },
  {
   "cell_type": "code",
   "execution_count": 4,
   "id": "4381258e-f79e-4bfa-9ac4-a96d4023f5a1",
   "metadata": {},
   "outputs": [],
   "source": [
    "# List all CSV files in the folder\n",
    "csv_files = [file for file in os.listdir(folder_path) if file.endswith('.csv')]\n"
   ]
  },
  {
   "cell_type": "code",
   "execution_count": 5,
   "id": "620ded52-5024-4370-bd1d-fd504a90409e",
   "metadata": {},
   "outputs": [],
   "source": [
    "# Function to read CSV with different encodings\n",
    "def read_csv_with_encodings(file_path):\n",
    "    encodings = ['utf-8', 'latin1', 'iso-8859-1', 'cp1252']\n",
    "    for encoding in encodings:\n",
    "        try:\n",
    "            return pd.read_csv(file_path, encoding=encoding)\n",
    "        except UnicodeDecodeError:\n",
    "            continue\n",
    "    raise UnicodeDecodeError(f\"Failed to read {file_path} with available encodings.\")\n"
   ]
  },
  {
   "cell_type": "code",
   "execution_count": 7,
   "id": "74e6c947-92ee-40f7-a2f3-ba93acdc6063",
   "metadata": {},
   "outputs": [],
   "source": [
    "# Function to convert trending_date to the desired format\n",
    "def convert_date_format(date_str):\n",
    "    # Split the date_str into its components\n",
    "    components = date_str.split('.')\n",
    "    if len(components) == 3:\n",
    "        year = int(components[0]) + 2000  # Assuming all dates are in the 2000s\n",
    "        day = int(components[1])\n",
    "        month = int(components[2])\n",
    "        return f\"{year:04d}-{month:02d}-{day:02d}\"\n",
    "    else:\n",
    "        raise ValueError(f\"Invalid date format: {date_str}\")\n"
   ]
  },
  {
   "cell_type": "code",
   "execution_count": 8,
   "id": "b9646640-15a1-44d2-a7f3-a2c78753295e",
   "metadata": {},
   "outputs": [],
   "source": [
    "# Read and concatenate all CSV files, adding a 'filename' column\n",
    "df_list = []\n",
    "error_files = []\n",
    "for file in csv_files:\n",
    "    file_path = os.path.join(folder_path, file)\n",
    "    try:\n",
    "        df = read_csv_with_encodings(file_path)\n",
    "        # Add a new column with the file name\n",
    "        df['filename'] = os.path.splitext(file)[0]  # Get the file name without extension\n",
    "        \n",
    "        # Convert the trending_date to the desired format\n",
    "        if 'trending_date' in df.columns:\n",
    "            df['trending_date'] = df['trending_date'].apply(convert_date_format)\n",
    "        \n",
    "        df_list.append(df)\n",
    "    except (UnicodeDecodeError, ValueError) as e:\n",
    "        error_files.append(file)\n",
    "        print(f\"Error reading {file}: {e}\")\n"
   ]
  },
  {
   "cell_type": "code",
   "execution_count": 9,
   "id": "310ead75-aa62-4d59-8bb6-edcb85fa1888",
   "metadata": {},
   "outputs": [
    {
     "name": "stdout",
     "output_type": "stream",
     "text": [
      "      video_id trending_date  \\\n",
      "0  n1WpP7iowLc    2017-11-14   \n",
      "1  0dBIkQ4Mz1M    2017-11-14   \n",
      "2  5qpjK5DgCt4    2017-11-14   \n",
      "3  d380meD0W0M    2017-11-14   \n",
      "4  2Vv-BfVoq4g    2017-11-14   \n",
      "\n",
      "                                               title channel_title  \\\n",
      "0         Eminem - Walk On Water (Audio) ft. Beyoncé    EminemVEVO   \n",
      "1                      PLUSH - Bad Unboxing Fan Mail     iDubbbzTV   \n",
      "2  Racist Superman | Rudy Mancuso, King Bach & Le...  Rudy Mancuso   \n",
      "3                           I Dare You: GOING BALD!?      nigahiga   \n",
      "4        Ed Sheeran - Perfect (Official Music Video)    Ed Sheeran   \n",
      "\n",
      "   category_id              publish_time  \\\n",
      "0           10  2017-11-10T17:00:03.000Z   \n",
      "1           23  2017-11-13T17:00:00.000Z   \n",
      "2           23  2017-11-12T19:05:24.000Z   \n",
      "3           24  2017-11-12T18:01:41.000Z   \n",
      "4           10  2017-11-09T11:04:14.000Z   \n",
      "\n",
      "                                                tags     views    likes  \\\n",
      "0  Eminem|\"Walk\"|\"On\"|\"Water\"|\"Aftermath/Shady/In...  17158579   787425   \n",
      "1  plush|\"bad unboxing\"|\"unboxing\"|\"fan mail\"|\"id...   1014651   127794   \n",
      "2  racist superman|\"rudy\"|\"mancuso\"|\"king\"|\"bach\"...   3191434   146035   \n",
      "3  ryan|\"higa\"|\"higatv\"|\"nigahiga\"|\"i dare you\"|\"...   2095828   132239   \n",
      "4  edsheeran|\"ed sheeran\"|\"acoustic\"|\"live\"|\"cove...  33523622  1634130   \n",
      "\n",
      "   dislikes  comment_count                                  thumbnail_link  \\\n",
      "0     43420         125882  https://i.ytimg.com/vi/n1WpP7iowLc/default.jpg   \n",
      "1      1688          13030  https://i.ytimg.com/vi/0dBIkQ4Mz1M/default.jpg   \n",
      "2      5339           8181  https://i.ytimg.com/vi/5qpjK5DgCt4/default.jpg   \n",
      "3      1989          17518  https://i.ytimg.com/vi/d380meD0W0M/default.jpg   \n",
      "4     21082          85067  https://i.ytimg.com/vi/2Vv-BfVoq4g/default.jpg   \n",
      "\n",
      "   comments_disabled  ratings_disabled  video_error_or_removed  \\\n",
      "0              False             False                   False   \n",
      "1              False             False                   False   \n",
      "2              False             False                   False   \n",
      "3              False             False                   False   \n",
      "4              False             False                   False   \n",
      "\n",
      "                                         description filename  \n",
      "0  Eminem's new track Walk on Water ft. Beyoncé i...   CANADA  \n",
      "1  STill got a lot of packages. Probably will las...   CANADA  \n",
      "2  WATCH MY PREVIOUS VIDEO ▶ \\n\\nSUBSCRIBE ► http...   CANADA  \n",
      "3  I know it's been a while since we did this sho...   CANADA  \n",
      "4  🎧: https://ad.gt/yt-perfect\\n💰: https://atlant...   CANADA  \n"
     ]
    }
   ],
   "source": [
    "# Merge all DataFrames\n",
    "if df_list:\n",
    "    merged_df = pd.concat(df_list, ignore_index=True)\n",
    "    \n",
    "    # Print the merged DataFrame\n",
    "    print(merged_df.head())  # Print only the first few rows for brevity\n",
    "else:\n",
    "    print(\"No CSV files were merged.\")\n"
   ]
  },
  {
   "cell_type": "code",
   "execution_count": 14,
   "id": "528ad9ea-0f45-4afd-ae53-193cc8d4c563",
   "metadata": {},
   "outputs": [
    {
     "name": "stdout",
     "output_type": "stream",
     "text": [
      "<class 'pandas.core.frame.DataFrame'>\n",
      "RangeIndex: 375942 entries, 0 to 375941\n",
      "Data columns (total 17 columns):\n",
      " #   Column                  Non-Null Count   Dtype \n",
      "---  ------                  --------------   ----- \n",
      " 0   video_id                375942 non-null  object\n",
      " 1   trending_date           375942 non-null  object\n",
      " 2   title                   375942 non-null  object\n",
      " 3   channel_title           375942 non-null  object\n",
      " 4   category_id             375942 non-null  int64 \n",
      " 5   publish_time            375942 non-null  object\n",
      " 6   tags                    375942 non-null  object\n",
      " 7   views                   375942 non-null  int64 \n",
      " 8   likes                   375942 non-null  int64 \n",
      " 9   dislikes                375942 non-null  int64 \n",
      " 10  comment_count           375942 non-null  int64 \n",
      " 11  thumbnail_link          375942 non-null  object\n",
      " 12  comments_disabled       375942 non-null  bool  \n",
      " 13  ratings_disabled        375942 non-null  bool  \n",
      " 14  video_error_or_removed  375942 non-null  bool  \n",
      " 15  description             356464 non-null  object\n",
      " 16  filename                375942 non-null  object\n",
      "dtypes: bool(3), int64(5), object(9)\n",
      "memory usage: 41.2+ MB\n"
     ]
    }
   ],
   "source": [
    "merged_df.info()"
   ]
  },
  {
   "cell_type": "code",
   "execution_count": null,
   "id": "bf7f30a2-7ea1-438f-987c-2fca2b1e6edc",
   "metadata": {},
   "outputs": [],
   "source": []
  },
  {
   "cell_type": "code",
   "execution_count": 10,
   "id": "3ef03787-983a-4bb0-9850-b864073facef",
   "metadata": {},
   "outputs": [],
   "source": [
    "merged_df['trending_date'] = merged_df['trending_date'].str.replace('.','-')"
   ]
  },
  {
   "cell_type": "raw",
   "id": "be7e56e4-fe76-4f00-b6be-8854a824e781",
   "metadata": {},
   "source": [
    "print(merged_df.head())"
   ]
  },
  {
   "cell_type": "code",
   "execution_count": 11,
   "id": "2295f639-7dfa-48cd-a3c6-c7bdf6c8ce14",
   "metadata": {},
   "outputs": [],
   "source": [
    "merged_df['trending_date'] = pd.to_datetime(merged_df['trending_date'])"
   ]
  },
  {
   "cell_type": "code",
   "execution_count": 12,
   "id": "4bfa2c8d-d5d1-4675-bbce-54ff3479daaa",
   "metadata": {},
   "outputs": [
    {
     "name": "stdout",
     "output_type": "stream",
     "text": [
      "<class 'pandas.core.frame.DataFrame'>\n",
      "RangeIndex: 375942 entries, 0 to 375941\n",
      "Data columns (total 17 columns):\n",
      " #   Column                  Non-Null Count   Dtype         \n",
      "---  ------                  --------------   -----         \n",
      " 0   video_id                375942 non-null  object        \n",
      " 1   trending_date           375942 non-null  datetime64[ns]\n",
      " 2   title                   375942 non-null  object        \n",
      " 3   channel_title           375942 non-null  object        \n",
      " 4   category_id             375942 non-null  int64         \n",
      " 5   publish_time            375942 non-null  object        \n",
      " 6   tags                    375942 non-null  object        \n",
      " 7   views                   375942 non-null  int64         \n",
      " 8   likes                   375942 non-null  int64         \n",
      " 9   dislikes                375942 non-null  int64         \n",
      " 10  comment_count           375942 non-null  int64         \n",
      " 11  thumbnail_link          375942 non-null  object        \n",
      " 12  comments_disabled       375942 non-null  bool          \n",
      " 13  ratings_disabled        375942 non-null  bool          \n",
      " 14  video_error_or_removed  375942 non-null  bool          \n",
      " 15  description             356464 non-null  object        \n",
      " 16  filename                375942 non-null  object        \n",
      "dtypes: bool(3), datetime64[ns](1), int64(5), object(8)\n",
      "memory usage: 41.2+ MB\n"
     ]
    }
   ],
   "source": [
    "merged_df.info()"
   ]
  },
  {
   "cell_type": "code",
   "execution_count": 13,
   "id": "68fc17d7-a2fe-4beb-8d00-7bb206e4e5d4",
   "metadata": {},
   "outputs": [],
   "source": [
    "merged_df['publish_time'] = pd.to_datetime(merged_df['publish_time'])"
   ]
  },
  {
   "cell_type": "code",
   "execution_count": 14,
   "id": "172d9d1d-84f7-4040-bb16-c04bdddffb4a",
   "metadata": {},
   "outputs": [
    {
     "name": "stdout",
     "output_type": "stream",
     "text": [
      "<class 'pandas.core.frame.DataFrame'>\n",
      "RangeIndex: 375942 entries, 0 to 375941\n",
      "Data columns (total 17 columns):\n",
      " #   Column                  Non-Null Count   Dtype              \n",
      "---  ------                  --------------   -----              \n",
      " 0   video_id                375942 non-null  object             \n",
      " 1   trending_date           375942 non-null  datetime64[ns]     \n",
      " 2   title                   375942 non-null  object             \n",
      " 3   channel_title           375942 non-null  object             \n",
      " 4   category_id             375942 non-null  int64              \n",
      " 5   publish_time            375942 non-null  datetime64[ns, UTC]\n",
      " 6   tags                    375942 non-null  object             \n",
      " 7   views                   375942 non-null  int64              \n",
      " 8   likes                   375942 non-null  int64              \n",
      " 9   dislikes                375942 non-null  int64              \n",
      " 10  comment_count           375942 non-null  int64              \n",
      " 11  thumbnail_link          375942 non-null  object             \n",
      " 12  comments_disabled       375942 non-null  bool               \n",
      " 13  ratings_disabled        375942 non-null  bool               \n",
      " 14  video_error_or_removed  375942 non-null  bool               \n",
      " 15  description             356464 non-null  object             \n",
      " 16  filename                375942 non-null  object             \n",
      "dtypes: bool(3), datetime64[ns, UTC](1), datetime64[ns](1), int64(5), object(7)\n",
      "memory usage: 41.2+ MB\n"
     ]
    }
   ],
   "source": [
    "merged_df.info()"
   ]
  },
  {
   "cell_type": "code",
   "execution_count": 24,
   "id": "562a3611-3a39-42b6-bf3c-620b8af42cde",
   "metadata": {},
   "outputs": [
    {
     "name": "stdout",
     "output_type": "stream",
     "text": [
      "      video_id trending_date  \\\n",
      "0  n1WpP7iowLc    2017-11-14   \n",
      "1  0dBIkQ4Mz1M    2017-11-14   \n",
      "2  5qpjK5DgCt4    2017-11-14   \n",
      "3  d380meD0W0M    2017-11-14   \n",
      "4  2Vv-BfVoq4g    2017-11-14   \n",
      "\n",
      "                                               title channel_title  \\\n",
      "0         Eminem - Walk On Water (Audio) ft. Beyoncé    EminemVEVO   \n",
      "1                      PLUSH - Bad Unboxing Fan Mail     iDubbbzTV   \n",
      "2  Racist Superman | Rudy Mancuso, King Bach & Le...  Rudy Mancuso   \n",
      "3                           I Dare You: GOING BALD!?      nigahiga   \n",
      "4        Ed Sheeran - Perfect (Official Music Video)    Ed Sheeran   \n",
      "\n",
      "   category_id              publish_time  \\\n",
      "0           10 2017-11-10 17:00:03+00:00   \n",
      "1           23 2017-11-13 17:00:00+00:00   \n",
      "2           23 2017-11-12 19:05:24+00:00   \n",
      "3           24 2017-11-12 18:01:41+00:00   \n",
      "4           10 2017-11-09 11:04:14+00:00   \n",
      "\n",
      "                                                tags     views    likes  \\\n",
      "0  Eminem|\"Walk\"|\"On\"|\"Water\"|\"Aftermath/Shady/In...  17158579   787425   \n",
      "1  plush|\"bad unboxing\"|\"unboxing\"|\"fan mail\"|\"id...   1014651   127794   \n",
      "2  racist superman|\"rudy\"|\"mancuso\"|\"king\"|\"bach\"...   3191434   146035   \n",
      "3  ryan|\"higa\"|\"higatv\"|\"nigahiga\"|\"i dare you\"|\"...   2095828   132239   \n",
      "4  edsheeran|\"ed sheeran\"|\"acoustic\"|\"live\"|\"cove...  33523622  1634130   \n",
      "\n",
      "   dislikes  comment_count                                  thumbnail_link  \\\n",
      "0     43420         125882  https://i.ytimg.com/vi/n1WpP7iowLc/default.jpg   \n",
      "1      1688          13030  https://i.ytimg.com/vi/0dBIkQ4Mz1M/default.jpg   \n",
      "2      5339           8181  https://i.ytimg.com/vi/5qpjK5DgCt4/default.jpg   \n",
      "3      1989          17518  https://i.ytimg.com/vi/d380meD0W0M/default.jpg   \n",
      "4     21082          85067  https://i.ytimg.com/vi/2Vv-BfVoq4g/default.jpg   \n",
      "\n",
      "   comments_disabled  ratings_disabled  video_error_or_removed  \\\n",
      "0              False             False                   False   \n",
      "1              False             False                   False   \n",
      "2              False             False                   False   \n",
      "3              False             False                   False   \n",
      "4              False             False                   False   \n",
      "\n",
      "                                         description filename  \n",
      "0  Eminem's new track Walk on Water ft. Beyoncé i...   CANADA  \n",
      "1  STill got a lot of packages. Probably will las...   CANADA  \n",
      "2  WATCH MY PREVIOUS VIDEO ▶ \\n\\nSUBSCRIBE ► http...   CANADA  \n",
      "3  I know it's been a while since we did this sho...   CANADA  \n",
      "4  🎧: https://ad.gt/yt-perfect\\n💰: https://atlant...   CANADA  \n"
     ]
    }
   ],
   "source": [
    "print(merged_df.head())\n"
   ]
  },
  {
   "cell_type": "code",
   "execution_count": 15,
   "id": "b91f3ef5-8daf-4267-9e2f-c9b2cace59c4",
   "metadata": {},
   "outputs": [],
   "source": [
    "# merged_df['publish_time'] = merged_df['publish_time'].extract.dt.date\n",
    "# Convert 'publish_time' to datetime format\n",
    "merged_df['publish_time'] = pd.to_datetime(merged_df['publish_time'])\n",
    "\n",
    "# Extract date and store as datetime.date object\n",
    "merged_df['publish_time'] = merged_df['publish_time'].dt.date"
   ]
  },
  {
   "cell_type": "code",
   "execution_count": 16,
   "id": "a9d5a875-d271-4d79-8662-017aadd3e967",
   "metadata": {},
   "outputs": [
    {
     "name": "stdout",
     "output_type": "stream",
     "text": [
      "      video_id trending_date  \\\n",
      "0  n1WpP7iowLc    2017-11-14   \n",
      "1  0dBIkQ4Mz1M    2017-11-14   \n",
      "2  5qpjK5DgCt4    2017-11-14   \n",
      "3  d380meD0W0M    2017-11-14   \n",
      "4  2Vv-BfVoq4g    2017-11-14   \n",
      "\n",
      "                                               title channel_title  \\\n",
      "0         Eminem - Walk On Water (Audio) ft. Beyoncé    EminemVEVO   \n",
      "1                      PLUSH - Bad Unboxing Fan Mail     iDubbbzTV   \n",
      "2  Racist Superman | Rudy Mancuso, King Bach & Le...  Rudy Mancuso   \n",
      "3                           I Dare You: GOING BALD!?      nigahiga   \n",
      "4        Ed Sheeran - Perfect (Official Music Video)    Ed Sheeran   \n",
      "\n",
      "   category_id publish_time  \\\n",
      "0           10   2017-11-10   \n",
      "1           23   2017-11-13   \n",
      "2           23   2017-11-12   \n",
      "3           24   2017-11-12   \n",
      "4           10   2017-11-09   \n",
      "\n",
      "                                                tags     views    likes  \\\n",
      "0  Eminem|\"Walk\"|\"On\"|\"Water\"|\"Aftermath/Shady/In...  17158579   787425   \n",
      "1  plush|\"bad unboxing\"|\"unboxing\"|\"fan mail\"|\"id...   1014651   127794   \n",
      "2  racist superman|\"rudy\"|\"mancuso\"|\"king\"|\"bach\"...   3191434   146035   \n",
      "3  ryan|\"higa\"|\"higatv\"|\"nigahiga\"|\"i dare you\"|\"...   2095828   132239   \n",
      "4  edsheeran|\"ed sheeran\"|\"acoustic\"|\"live\"|\"cove...  33523622  1634130   \n",
      "\n",
      "   dislikes  comment_count                                  thumbnail_link  \\\n",
      "0     43420         125882  https://i.ytimg.com/vi/n1WpP7iowLc/default.jpg   \n",
      "1      1688          13030  https://i.ytimg.com/vi/0dBIkQ4Mz1M/default.jpg   \n",
      "2      5339           8181  https://i.ytimg.com/vi/5qpjK5DgCt4/default.jpg   \n",
      "3      1989          17518  https://i.ytimg.com/vi/d380meD0W0M/default.jpg   \n",
      "4     21082          85067  https://i.ytimg.com/vi/2Vv-BfVoq4g/default.jpg   \n",
      "\n",
      "   comments_disabled  ratings_disabled  video_error_or_removed  \\\n",
      "0              False             False                   False   \n",
      "1              False             False                   False   \n",
      "2              False             False                   False   \n",
      "3              False             False                   False   \n",
      "4              False             False                   False   \n",
      "\n",
      "                                         description filename  \n",
      "0  Eminem's new track Walk on Water ft. Beyoncé i...   CANADA  \n",
      "1  STill got a lot of packages. Probably will las...   CANADA  \n",
      "2  WATCH MY PREVIOUS VIDEO ▶ \\n\\nSUBSCRIBE ► http...   CANADA  \n",
      "3  I know it's been a while since we did this sho...   CANADA  \n",
      "4  🎧: https://ad.gt/yt-perfect\\n💰: https://atlant...   CANADA  \n"
     ]
    }
   ],
   "source": [
    "print(merged_df.head())"
   ]
  },
  {
   "cell_type": "code",
   "execution_count": 19,
   "id": "a7dcc550-1d0c-4e9f-a2f0-32e222c5e216",
   "metadata": {},
   "outputs": [
    {
     "name": "stdout",
     "output_type": "stream",
     "text": [
      "<class 'pandas.core.frame.DataFrame'>\n",
      "RangeIndex: 375942 entries, 0 to 375941\n",
      "Data columns (total 16 columns):\n",
      " #   Column                  Non-Null Count   Dtype         \n",
      "---  ------                  --------------   -----         \n",
      " 0   video_id                375942 non-null  object        \n",
      " 1   trending_date           375942 non-null  datetime64[ns]\n",
      " 2   title                   375942 non-null  object        \n",
      " 3   channel_title           375942 non-null  object        \n",
      " 4   category_id             375942 non-null  int64         \n",
      " 5   publish_time            375942 non-null  object        \n",
      " 6   tags                    375942 non-null  object        \n",
      " 7   views                   375942 non-null  int64         \n",
      " 8   likes                   375942 non-null  int64         \n",
      " 9   dislikes                375942 non-null  int64         \n",
      " 10  comment_count           375942 non-null  int64         \n",
      " 11  thumbnail_link          375942 non-null  object        \n",
      " 12  comments_disabled       375942 non-null  bool          \n",
      " 13  ratings_disabled        375942 non-null  bool          \n",
      " 14  video_error_or_removed  375942 non-null  bool          \n",
      " 15  filename                375942 non-null  object        \n",
      "dtypes: bool(3), datetime64[ns](1), int64(5), object(7)\n",
      "memory usage: 38.4+ MB\n"
     ]
    }
   ],
   "source": [
    "merged_df.info()"
   ]
  },
  {
   "cell_type": "code",
   "execution_count": 20,
   "id": "6f40321c-2dec-4388-9127-7fe825862a00",
   "metadata": {},
   "outputs": [
    {
     "ename": "KeyError",
     "evalue": "\"['description'] not found in axis\"",
     "output_type": "error",
     "traceback": [
      "\u001b[1;31m---------------------------------------------------------------------------\u001b[0m",
      "\u001b[1;31mKeyError\u001b[0m                                  Traceback (most recent call last)",
      "Cell \u001b[1;32mIn[20], line 1\u001b[0m\n\u001b[1;32m----> 1\u001b[0m merged_df\u001b[38;5;241m.\u001b[39mdrop(columns\u001b[38;5;241m=\u001b[39m[\u001b[38;5;124m'\u001b[39m\u001b[38;5;124mdescription\u001b[39m\u001b[38;5;124m'\u001b[39m], inplace\u001b[38;5;241m=\u001b[39m\u001b[38;5;28;01mTrue\u001b[39;00m)\n",
      "File \u001b[1;32m~\\AppData\\Local\\anaconda3\\Lib\\site-packages\\pandas\\core\\frame.py:5344\u001b[0m, in \u001b[0;36mDataFrame.drop\u001b[1;34m(self, labels, axis, index, columns, level, inplace, errors)\u001b[0m\n\u001b[0;32m   5196\u001b[0m \u001b[38;5;28;01mdef\u001b[39;00m \u001b[38;5;21mdrop\u001b[39m(\n\u001b[0;32m   5197\u001b[0m     \u001b[38;5;28mself\u001b[39m,\n\u001b[0;32m   5198\u001b[0m     labels: IndexLabel \u001b[38;5;241m|\u001b[39m \u001b[38;5;28;01mNone\u001b[39;00m \u001b[38;5;241m=\u001b[39m \u001b[38;5;28;01mNone\u001b[39;00m,\n\u001b[1;32m   (...)\u001b[0m\n\u001b[0;32m   5205\u001b[0m     errors: IgnoreRaise \u001b[38;5;241m=\u001b[39m \u001b[38;5;124m\"\u001b[39m\u001b[38;5;124mraise\u001b[39m\u001b[38;5;124m\"\u001b[39m,\n\u001b[0;32m   5206\u001b[0m ) \u001b[38;5;241m-\u001b[39m\u001b[38;5;241m>\u001b[39m DataFrame \u001b[38;5;241m|\u001b[39m \u001b[38;5;28;01mNone\u001b[39;00m:\n\u001b[0;32m   5207\u001b[0m \u001b[38;5;250m    \u001b[39m\u001b[38;5;124;03m\"\"\"\u001b[39;00m\n\u001b[0;32m   5208\u001b[0m \u001b[38;5;124;03m    Drop specified labels from rows or columns.\u001b[39;00m\n\u001b[0;32m   5209\u001b[0m \n\u001b[1;32m   (...)\u001b[0m\n\u001b[0;32m   5342\u001b[0m \u001b[38;5;124;03m            weight  1.0     0.8\u001b[39;00m\n\u001b[0;32m   5343\u001b[0m \u001b[38;5;124;03m    \"\"\"\u001b[39;00m\n\u001b[1;32m-> 5344\u001b[0m     \u001b[38;5;28;01mreturn\u001b[39;00m \u001b[38;5;28msuper\u001b[39m()\u001b[38;5;241m.\u001b[39mdrop(\n\u001b[0;32m   5345\u001b[0m         labels\u001b[38;5;241m=\u001b[39mlabels,\n\u001b[0;32m   5346\u001b[0m         axis\u001b[38;5;241m=\u001b[39maxis,\n\u001b[0;32m   5347\u001b[0m         index\u001b[38;5;241m=\u001b[39mindex,\n\u001b[0;32m   5348\u001b[0m         columns\u001b[38;5;241m=\u001b[39mcolumns,\n\u001b[0;32m   5349\u001b[0m         level\u001b[38;5;241m=\u001b[39mlevel,\n\u001b[0;32m   5350\u001b[0m         inplace\u001b[38;5;241m=\u001b[39minplace,\n\u001b[0;32m   5351\u001b[0m         errors\u001b[38;5;241m=\u001b[39merrors,\n\u001b[0;32m   5352\u001b[0m     )\n",
      "File \u001b[1;32m~\\AppData\\Local\\anaconda3\\Lib\\site-packages\\pandas\\core\\generic.py:4711\u001b[0m, in \u001b[0;36mNDFrame.drop\u001b[1;34m(self, labels, axis, index, columns, level, inplace, errors)\u001b[0m\n\u001b[0;32m   4709\u001b[0m \u001b[38;5;28;01mfor\u001b[39;00m axis, labels \u001b[38;5;129;01min\u001b[39;00m axes\u001b[38;5;241m.\u001b[39mitems():\n\u001b[0;32m   4710\u001b[0m     \u001b[38;5;28;01mif\u001b[39;00m labels \u001b[38;5;129;01mis\u001b[39;00m \u001b[38;5;129;01mnot\u001b[39;00m \u001b[38;5;28;01mNone\u001b[39;00m:\n\u001b[1;32m-> 4711\u001b[0m         obj \u001b[38;5;241m=\u001b[39m obj\u001b[38;5;241m.\u001b[39m_drop_axis(labels, axis, level\u001b[38;5;241m=\u001b[39mlevel, errors\u001b[38;5;241m=\u001b[39merrors)\n\u001b[0;32m   4713\u001b[0m \u001b[38;5;28;01mif\u001b[39;00m inplace:\n\u001b[0;32m   4714\u001b[0m     \u001b[38;5;28mself\u001b[39m\u001b[38;5;241m.\u001b[39m_update_inplace(obj)\n",
      "File \u001b[1;32m~\\AppData\\Local\\anaconda3\\Lib\\site-packages\\pandas\\core\\generic.py:4753\u001b[0m, in \u001b[0;36mNDFrame._drop_axis\u001b[1;34m(self, labels, axis, level, errors, only_slice)\u001b[0m\n\u001b[0;32m   4751\u001b[0m         new_axis \u001b[38;5;241m=\u001b[39m axis\u001b[38;5;241m.\u001b[39mdrop(labels, level\u001b[38;5;241m=\u001b[39mlevel, errors\u001b[38;5;241m=\u001b[39merrors)\n\u001b[0;32m   4752\u001b[0m     \u001b[38;5;28;01melse\u001b[39;00m:\n\u001b[1;32m-> 4753\u001b[0m         new_axis \u001b[38;5;241m=\u001b[39m axis\u001b[38;5;241m.\u001b[39mdrop(labels, errors\u001b[38;5;241m=\u001b[39merrors)\n\u001b[0;32m   4754\u001b[0m     indexer \u001b[38;5;241m=\u001b[39m axis\u001b[38;5;241m.\u001b[39mget_indexer(new_axis)\n\u001b[0;32m   4756\u001b[0m \u001b[38;5;66;03m# Case for non-unique axis\u001b[39;00m\n\u001b[0;32m   4757\u001b[0m \u001b[38;5;28;01melse\u001b[39;00m:\n",
      "File \u001b[1;32m~\\AppData\\Local\\anaconda3\\Lib\\site-packages\\pandas\\core\\indexes\\base.py:7000\u001b[0m, in \u001b[0;36mIndex.drop\u001b[1;34m(self, labels, errors)\u001b[0m\n\u001b[0;32m   6998\u001b[0m \u001b[38;5;28;01mif\u001b[39;00m mask\u001b[38;5;241m.\u001b[39many():\n\u001b[0;32m   6999\u001b[0m     \u001b[38;5;28;01mif\u001b[39;00m errors \u001b[38;5;241m!=\u001b[39m \u001b[38;5;124m\"\u001b[39m\u001b[38;5;124mignore\u001b[39m\u001b[38;5;124m\"\u001b[39m:\n\u001b[1;32m-> 7000\u001b[0m         \u001b[38;5;28;01mraise\u001b[39;00m \u001b[38;5;167;01mKeyError\u001b[39;00m(\u001b[38;5;124mf\u001b[39m\u001b[38;5;124m\"\u001b[39m\u001b[38;5;132;01m{\u001b[39;00mlabels[mask]\u001b[38;5;241m.\u001b[39mtolist()\u001b[38;5;132;01m}\u001b[39;00m\u001b[38;5;124m not found in axis\u001b[39m\u001b[38;5;124m\"\u001b[39m)\n\u001b[0;32m   7001\u001b[0m     indexer \u001b[38;5;241m=\u001b[39m indexer[\u001b[38;5;241m~\u001b[39mmask]\n\u001b[0;32m   7002\u001b[0m \u001b[38;5;28;01mreturn\u001b[39;00m \u001b[38;5;28mself\u001b[39m\u001b[38;5;241m.\u001b[39mdelete(indexer)\n",
      "\u001b[1;31mKeyError\u001b[0m: \"['description'] not found in axis\""
     ]
    }
   ],
   "source": [
    "merged_df.drop(columns=['description'], inplace=True)"
   ]
  },
  {
   "cell_type": "code",
   "execution_count": 21,
   "id": "1098af2a-55b8-4457-9bfe-8838f17685d3",
   "metadata": {},
   "outputs": [],
   "source": [
    "merged_df['publish_time'] = pd.to_datetime(merged_df['publish_time'])"
   ]
  },
  {
   "cell_type": "code",
   "execution_count": null,
   "id": "e5525884-99bd-412a-a609-4ee043927aa2",
   "metadata": {},
   "outputs": [],
   "source": []
  },
  {
   "cell_type": "code",
   "execution_count": 28,
   "id": "a3bbb00e-6fcc-419c-88b9-68ff5679e0fd",
   "metadata": {},
   "outputs": [],
   "source": [
    "conditions = [\n",
    "    (merged_df['category_id']==1 ),\n",
    "    (merged_df['category_id']==10 ),\n",
    "    (merged_df['category_id']==15 ),\n",
    "    (merged_df['category_id']==17 ),\n",
    "    (merged_df['category_id']==18 ),\n",
    "    (merged_df['category_id']==19 ),\n",
    "    (merged_df['category_id']==2 ),\n",
    "    (merged_df['category_id']==20 ),\n",
    "    (merged_df['category_id']==21 ),\n",
    "    (merged_df['category_id']==22 ),\n",
    "    (merged_df['category_id']==23 ),\n",
    "    (merged_df['category_id']==24 ),\n",
    "    (merged_df['category_id']==25 ),\n",
    "    (merged_df['category_id']==26 ),\n",
    "    (merged_df['category_id']==27 ),\n",
    "    (merged_df['category_id']==28 ),\n",
    "    (merged_df['category_id']==29 ),\n",
    "    (merged_df['category_id']==30 ),\n",
    "    (merged_df['category_id']==31 ),\n",
    "    (merged_df['category_id']==32 ),\n",
    "    (merged_df['category_id']==33 ),\n",
    "    (merged_df['category_id']==34 ),\n",
    "    (merged_df['category_id']==35 ),\n",
    "    (merged_df['category_id']==36 ),\n",
    "    (merged_df['category_id']==37 ),\n",
    "    (merged_df['category_id']==38 ),\n",
    "    (merged_df['category_id']==39 ),\n",
    "    (merged_df['category_id']==40 ),\n",
    "    (merged_df['category_id']==41 ),\n",
    "    (merged_df['category_id']==42 ),\n",
    "    (merged_df['category_id']==43 ),\n",
    "    (merged_df['category_id']==44 ),\n",
    "]\n",
    "\n",
    "values = [' Film & Animation',' Music',' Pets & Animals',' Sports',' Short Movies',\n",
    "' Travel & Events',' Autos & Vehicles',' Gaming',' Videoblogging',' People & Blogs',\n",
    "' Comedy',' Entertainment',' News & Politics',' How-to & Style',' Education',\n",
    "' Science & Technology',' Non-profits & Activism',' Movies',' Anime/Animation',\n",
    "' Action/Adventure',' Classics',' Comedy',' Documentary',' Drama',' Family',' Foreign',\n",
    "' Horror',' Sci-Fi/Fantasy',' Thriller',' Shorts',' Shows',' Trailers']\n",
    "\n",
    "merged_df['Category description'] = np.select(conditions, values, default='unknown')"
   ]
  },
  {
   "cell_type": "code",
   "execution_count": null,
   "id": "fc704ad6-26e3-433e-9ccb-7ca5b5065883",
   "metadata": {},
   "outputs": [],
   "source": []
  },
  {
   "cell_type": "code",
   "execution_count": 30,
   "id": "e0ff8885-03b7-4189-85b7-f1c8a4e75d3e",
   "metadata": {},
   "outputs": [
    {
     "name": "stdout",
     "output_type": "stream",
     "text": [
      "CSV files merged successfully!\n",
      "Merged DataFrame saved to C:\\Users\\aoluokun\\Downloads\\merged_file3.csv\n"
     ]
    }
   ],
   "source": [
    "    # Save the merged DataFrame to a new CSV file\n",
    "    output_path = r'C:\\Users\\aoluokun\\Downloads\\merged_file3.csv'\n",
    "    merged_df.to_csv(output_path, index=False)\n",
    "    print(\"CSV files merged successfully!\")\n",
    "    print(f\"Merged DataFrame saved to {output_path}\")\n"
   ]
  },
  {
   "cell_type": "code",
   "execution_count": 32,
   "id": "f191f219-71a0-4cd0-81f8-ffa7ca7d16e7",
   "metadata": {},
   "outputs": [],
   "source": [
    "# convert string to int\n",
    "# merged_df['views'] = merged_df['views'].astype(int)\n",
    "# merged_df['likes'] = merged_df['views'].astype(int)"
   ]
  },
  {
   "cell_type": "code",
   "execution_count": 29,
   "id": "07a2e7cc-6589-4acc-aed5-8decf009b0f3",
   "metadata": {},
   "outputs": [
    {
     "name": "stdout",
     "output_type": "stream",
     "text": [
      "<class 'pandas.core.frame.DataFrame'>\n",
      "RangeIndex: 375942 entries, 0 to 375941\n",
      "Data columns (total 17 columns):\n",
      " #   Column                  Non-Null Count   Dtype         \n",
      "---  ------                  --------------   -----         \n",
      " 0   video_id                375942 non-null  object        \n",
      " 1   trending_date           375942 non-null  datetime64[ns]\n",
      " 2   title                   375942 non-null  object        \n",
      " 3   channel_title           375942 non-null  object        \n",
      " 4   category_id             375942 non-null  int64         \n",
      " 5   publish_time            375942 non-null  datetime64[ns]\n",
      " 6   tags                    375942 non-null  object        \n",
      " 7   views                   375942 non-null  int64         \n",
      " 8   likes                   375942 non-null  int64         \n",
      " 9   dislikes                375942 non-null  int64         \n",
      " 10  comment_count           375942 non-null  int64         \n",
      " 11  thumbnail_link          375942 non-null  object        \n",
      " 12  comments_disabled       375942 non-null  bool          \n",
      " 13  ratings_disabled        375942 non-null  bool          \n",
      " 14  video_error_or_removed  375942 non-null  bool          \n",
      " 15  filename                375942 non-null  object        \n",
      " 16  Category description    375942 non-null  object        \n",
      "dtypes: bool(3), datetime64[ns](2), int64(5), object(7)\n",
      "memory usage: 41.2+ MB\n"
     ]
    }
   ],
   "source": [
    "merged_df.info()"
   ]
  },
  {
   "cell_type": "code",
   "execution_count": null,
   "id": "492c6d4a-09a8-4acc-b3d7-314fa42c4b5a",
   "metadata": {},
   "outputs": [],
   "source": []
  }
 ],
 "metadata": {
  "kernelspec": {
   "display_name": "Python 3 (ipykernel)",
   "language": "python",
   "name": "python3"
  },
  "language_info": {
   "codemirror_mode": {
    "name": "ipython",
    "version": 3
   },
   "file_extension": ".py",
   "mimetype": "text/x-python",
   "name": "python",
   "nbconvert_exporter": "python",
   "pygments_lexer": "ipython3",
   "version": "3.11.7"
  }
 },
 "nbformat": 4,
 "nbformat_minor": 5
}
